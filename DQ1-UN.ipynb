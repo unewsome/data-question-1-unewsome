{
 "cells": [
  {
   "cell_type": "code",
<<<<<<< HEAD
   "execution_count": 1,
=======
   "execution_count": 37,
>>>>>>> 306ef1450316ae024bf9d188b5ab3d2e618ee856
   "metadata": {},
   "outputs": [],
   "source": [
    "import pandas as pd\n",
    "import numpy as np\n",
    "import matplotlib.pyplot as plt\n",
    "import seaborn as sns\n",
    "\n",
    "%matplotlib inline\n"
   ]
  },
  {
   "cell_type": "code",
<<<<<<< HEAD
   "execution_count": 2,
=======
   "execution_count": 38,
>>>>>>> 306ef1450316ae024bf9d188b5ab3d2e618ee856
   "metadata": {
    "scrolled": true
   },
   "outputs": [
    {
     "data": {
      "text/html": [
       "<div>\n",
       "<style scoped>\n",
       "    .dataframe tbody tr th:only-of-type {\n",
       "        vertical-align: middle;\n",
       "    }\n",
       "\n",
       "    .dataframe tbody tr th {\n",
       "        vertical-align: top;\n",
       "    }\n",
       "\n",
       "    .dataframe thead th {\n",
       "        text-align: right;\n",
       "    }\n",
       "</style>\n",
       "<table border=\"1\" class=\"dataframe\">\n",
       "  <thead>\n",
       "    <tr style=\"text-align: right;\">\n",
       "      <th></th>\n",
       "      <th>Country or Area</th>\n",
       "      <th>Year</th>\n",
       "      <th>Value</th>\n",
       "      <th>Value Footnotes</th>\n",
       "    </tr>\n",
       "  </thead>\n",
       "  <tbody>\n",
       "    <tr>\n",
       "      <th>0</th>\n",
       "      <td>Afghanistan</td>\n",
       "      <td>2016</td>\n",
       "      <td>1802.695566</td>\n",
       "      <td>NaN</td>\n",
       "    </tr>\n",
       "    <tr>\n",
       "      <th>1</th>\n",
       "      <td>Afghanistan</td>\n",
       "      <td>2015</td>\n",
       "      <td>1809.016488</td>\n",
       "      <td>NaN</td>\n",
       "    </tr>\n",
       "    <tr>\n",
       "      <th>2</th>\n",
       "      <td>Afghanistan</td>\n",
       "      <td>2014</td>\n",
       "      <td>1838.960244</td>\n",
       "      <td>NaN</td>\n",
       "    </tr>\n",
       "    <tr>\n",
       "      <th>3</th>\n",
       "      <td>Afghanistan</td>\n",
       "      <td>2013</td>\n",
       "      <td>1848.700026</td>\n",
       "      <td>NaN</td>\n",
       "    </tr>\n",
       "    <tr>\n",
       "      <th>4</th>\n",
       "      <td>Afghanistan</td>\n",
       "      <td>2012</td>\n",
       "      <td>1839.273579</td>\n",
       "      <td>NaN</td>\n",
       "    </tr>\n",
       "    <tr>\n",
       "      <th>5</th>\n",
       "      <td>Afghanistan</td>\n",
       "      <td>2011</td>\n",
       "      <td>1660.739856</td>\n",
       "      <td>NaN</td>\n",
       "    </tr>\n",
       "  </tbody>\n",
       "</table>\n",
       "</div>"
      ],
      "text/plain": [
       "  Country or Area  Year        Value  Value Footnotes\n",
       "0     Afghanistan  2016  1802.695566              NaN\n",
       "1     Afghanistan  2015  1809.016488              NaN\n",
       "2     Afghanistan  2014  1838.960244              NaN\n",
       "3     Afghanistan  2013  1848.700026              NaN\n",
       "4     Afghanistan  2012  1839.273579              NaN\n",
       "5     Afghanistan  2011  1660.739856              NaN"
      ]
     },
<<<<<<< HEAD
     "execution_count": 2,
=======
     "execution_count": 38,
>>>>>>> 306ef1450316ae024bf9d188b5ab3d2e618ee856
     "metadata": {},
     "output_type": "execute_result"
    }
   ],
   "source": [
    "gdp_df = pd.read_csv('~/nss_data_science/data-question-1-unewsome/data/gdp_percapita.csv', nrows=6206)\n",
    "gdp_df.head(6)"
   ]
  },
  {
   "cell_type": "code",
<<<<<<< HEAD
   "execution_count": 3,
=======
   "execution_count": 39,
>>>>>>> 306ef1450316ae024bf9d188b5ab3d2e618ee856
   "metadata": {
    "scrolled": false
   },
   "outputs": [
    {
     "data": {
      "text/html": [
       "<div>\n",
       "<style scoped>\n",
       "    .dataframe tbody tr th:only-of-type {\n",
       "        vertical-align: middle;\n",
       "    }\n",
       "\n",
       "    .dataframe tbody tr th {\n",
       "        vertical-align: top;\n",
       "    }\n",
       "\n",
       "    .dataframe thead th {\n",
       "        text-align: right;\n",
       "    }\n",
       "</style>\n",
       "<table border=\"1\" class=\"dataframe\">\n",
       "  <thead>\n",
       "    <tr style=\"text-align: right;\">\n",
       "      <th></th>\n",
       "      <th>Country or Area</th>\n",
       "      <th>Year</th>\n",
       "      <th>Value</th>\n",
       "      <th>Value Footnotes</th>\n",
       "    </tr>\n",
       "  </thead>\n",
       "  <tbody>\n",
       "    <tr>\n",
       "      <th>0</th>\n",
       "      <td>Afghanistan</td>\n",
       "      <td>2014</td>\n",
       "      <td>6.390000</td>\n",
       "      <td>NaN</td>\n",
       "    </tr>\n",
       "    <tr>\n",
       "      <th>1</th>\n",
       "      <td>Afghanistan</td>\n",
       "      <td>2013</td>\n",
       "      <td>5.900000</td>\n",
       "      <td>NaN</td>\n",
       "    </tr>\n",
       "    <tr>\n",
       "      <th>2</th>\n",
       "      <td>Afghanistan</td>\n",
       "      <td>2012</td>\n",
       "      <td>5.454545</td>\n",
       "      <td>NaN</td>\n",
       "    </tr>\n",
       "    <tr>\n",
       "      <th>3</th>\n",
       "      <td>Afghanistan</td>\n",
       "      <td>2011</td>\n",
       "      <td>5.000000</td>\n",
       "      <td>NaN</td>\n",
       "    </tr>\n",
       "    <tr>\n",
       "      <th>4</th>\n",
       "      <td>Afghanistan</td>\n",
       "      <td>2010</td>\n",
       "      <td>4.000000</td>\n",
       "      <td>NaN</td>\n",
       "    </tr>\n",
       "    <tr>\n",
       "      <th>5</th>\n",
       "      <td>Afghanistan</td>\n",
       "      <td>2009</td>\n",
       "      <td>3.550000</td>\n",
       "      <td>NaN</td>\n",
       "    </tr>\n",
       "  </tbody>\n",
       "</table>\n",
       "</div>"
      ],
      "text/plain": [
       "  Country or Area  Year     Value  Value Footnotes\n",
       "0     Afghanistan  2014  6.390000              NaN\n",
       "1     Afghanistan  2013  5.900000              NaN\n",
       "2     Afghanistan  2012  5.454545              NaN\n",
       "3     Afghanistan  2011  5.000000              NaN\n",
       "4     Afghanistan  2010  4.000000              NaN\n",
       "5     Afghanistan  2009  3.550000              NaN"
      ]
     },
<<<<<<< HEAD
     "execution_count": 3,
=======
     "execution_count": 39,
>>>>>>> 306ef1450316ae024bf9d188b5ab3d2e618ee856
     "metadata": {},
     "output_type": "execute_result"
    }
   ],
   "source": [
    "internet_df = pd.read_csv('~/nss_data_science/data-question-1-unewsome/data/internet_use.csv', nrows=4495)\n",
    "internet_df.head(6)\n"
   ]
  },
  {
   "cell_type": "code",
<<<<<<< HEAD
   "execution_count": 4,
=======
   "execution_count": 40,
>>>>>>> 306ef1450316ae024bf9d188b5ab3d2e618ee856
   "metadata": {},
   "outputs": [
    {
     "data": {
      "text/plain": [
       "(4495, 4)"
      ]
     },
<<<<<<< HEAD
     "execution_count": 4,
=======
     "execution_count": 40,
>>>>>>> 306ef1450316ae024bf9d188b5ab3d2e618ee856
     "metadata": {},
     "output_type": "execute_result"
    }
   ],
   "source": [
    "internet_df.shape"
   ]
  },
  {
   "cell_type": "code",
<<<<<<< HEAD
   "execution_count": 5,
=======
   "execution_count": 41,
>>>>>>> 306ef1450316ae024bf9d188b5ab3d2e618ee856
   "metadata": {},
   "outputs": [
    {
     "data": {
      "text/plain": [
       "(6206, 4)"
      ]
     },
<<<<<<< HEAD
     "execution_count": 5,
=======
     "execution_count": 41,
>>>>>>> 306ef1450316ae024bf9d188b5ab3d2e618ee856
     "metadata": {},
     "output_type": "execute_result"
    }
   ],
   "source": [
    "gdp_df.shape"
   ]
  },
  {
   "cell_type": "code",
<<<<<<< HEAD
   "execution_count": 6,
=======
   "execution_count": 42,
>>>>>>> 306ef1450316ae024bf9d188b5ab3d2e618ee856
   "metadata": {},
   "outputs": [
    {
     "data": {
      "text/plain": [
       "Country or Area     object\n",
       "Year                 int64\n",
       "Value              float64\n",
       "Value Footnotes    float64\n",
       "dtype: object"
      ]
     },
<<<<<<< HEAD
     "execution_count": 6,
=======
     "execution_count": 42,
>>>>>>> 306ef1450316ae024bf9d188b5ab3d2e618ee856
     "metadata": {},
     "output_type": "execute_result"
    }
   ],
   "source": [
    "gdp_df.dtypes"
   ]
  },
  {
   "cell_type": "code",
<<<<<<< HEAD
   "execution_count": 7,
=======
   "execution_count": 43,
>>>>>>> 306ef1450316ae024bf9d188b5ab3d2e618ee856
   "metadata": {},
   "outputs": [
    {
     "data": {
      "text/plain": [
       "Country or Area     object\n",
       "Year                 int64\n",
       "Value              float64\n",
       "Value Footnotes    float64\n",
       "dtype: object"
      ]
     },
<<<<<<< HEAD
     "execution_count": 7,
=======
     "execution_count": 43,
>>>>>>> 306ef1450316ae024bf9d188b5ab3d2e618ee856
     "metadata": {},
     "output_type": "execute_result"
    }
   ],
   "source": [
    "internet_df.dtypes"
   ]
  },
  {
   "cell_type": "code",
<<<<<<< HEAD
   "execution_count": 8,
=======
   "execution_count": 44,
>>>>>>> 306ef1450316ae024bf9d188b5ab3d2e618ee856
   "metadata": {},
   "outputs": [
    {
     "data": {
      "text/html": [
       "<div>\n",
       "<style scoped>\n",
       "    .dataframe tbody tr th:only-of-type {\n",
       "        vertical-align: middle;\n",
       "    }\n",
       "\n",
       "    .dataframe tbody tr th {\n",
       "        vertical-align: top;\n",
       "    }\n",
       "\n",
       "    .dataframe thead th {\n",
       "        text-align: right;\n",
       "    }\n",
       "</style>\n",
       "<table border=\"1\" class=\"dataframe\">\n",
       "  <thead>\n",
       "    <tr style=\"text-align: right;\">\n",
       "      <th></th>\n",
       "      <th>Country or Area</th>\n",
       "      <th>Year</th>\n",
       "      <th>Value</th>\n",
       "    </tr>\n",
       "  </thead>\n",
       "  <tbody>\n",
       "    <tr>\n",
       "      <th>6196</th>\n",
       "      <td>Zimbabwe</td>\n",
       "      <td>1999</td>\n",
       "      <td>2699.857521</td>\n",
       "    </tr>\n",
       "    <tr>\n",
       "      <th>6197</th>\n",
       "      <td>Zimbabwe</td>\n",
       "      <td>1998</td>\n",
       "      <td>2761.318537</td>\n",
       "    </tr>\n",
       "    <tr>\n",
       "      <th>6198</th>\n",
       "      <td>Zimbabwe</td>\n",
       "      <td>1997</td>\n",
       "      <td>2725.888701</td>\n",
       "    </tr>\n",
       "    <tr>\n",
       "      <th>6199</th>\n",
       "      <td>Zimbabwe</td>\n",
       "      <td>1996</td>\n",
       "      <td>2698.917300</td>\n",
       "    </tr>\n",
       "    <tr>\n",
       "      <th>6200</th>\n",
       "      <td>Zimbabwe</td>\n",
       "      <td>1995</td>\n",
       "      <td>2488.298028</td>\n",
       "    </tr>\n",
       "    <tr>\n",
       "      <th>6201</th>\n",
       "      <td>Zimbabwe</td>\n",
       "      <td>1994</td>\n",
       "      <td>2529.826671</td>\n",
       "    </tr>\n",
       "    <tr>\n",
       "      <th>6202</th>\n",
       "      <td>Zimbabwe</td>\n",
       "      <td>1993</td>\n",
       "      <td>2360.793284</td>\n",
       "    </tr>\n",
       "    <tr>\n",
       "      <th>6203</th>\n",
       "      <td>Zimbabwe</td>\n",
       "      <td>1992</td>\n",
       "      <td>2384.972026</td>\n",
       "    </tr>\n",
       "    <tr>\n",
       "      <th>6204</th>\n",
       "      <td>Zimbabwe</td>\n",
       "      <td>1991</td>\n",
       "      <td>2681.495089</td>\n",
       "    </tr>\n",
       "    <tr>\n",
       "      <th>6205</th>\n",
       "      <td>Zimbabwe</td>\n",
       "      <td>1990</td>\n",
       "      <td>2605.794944</td>\n",
       "    </tr>\n",
       "  </tbody>\n",
       "</table>\n",
       "</div>"
      ],
      "text/plain": [
       "     Country or Area  Year        Value\n",
       "6196        Zimbabwe  1999  2699.857521\n",
       "6197        Zimbabwe  1998  2761.318537\n",
       "6198        Zimbabwe  1997  2725.888701\n",
       "6199        Zimbabwe  1996  2698.917300\n",
       "6200        Zimbabwe  1995  2488.298028\n",
       "6201        Zimbabwe  1994  2529.826671\n",
       "6202        Zimbabwe  1993  2360.793284\n",
       "6203        Zimbabwe  1992  2384.972026\n",
       "6204        Zimbabwe  1991  2681.495089\n",
       "6205        Zimbabwe  1990  2605.794944"
      ]
     },
<<<<<<< HEAD
     "execution_count": 8,
=======
     "execution_count": 44,
>>>>>>> 306ef1450316ae024bf9d188b5ab3d2e618ee856
     "metadata": {},
     "output_type": "execute_result"
    }
   ],
   "source": [
    "del gdp_df['Value Footnotes']\n",
    "gdp_df.tail(10)"
   ]
  },
  {
   "cell_type": "code",
<<<<<<< HEAD
   "execution_count": 9,
=======
   "execution_count": 45,
>>>>>>> 306ef1450316ae024bf9d188b5ab3d2e618ee856
   "metadata": {},
   "outputs": [
    {
     "data": {
      "text/html": [
       "<div>\n",
       "<style scoped>\n",
       "    .dataframe tbody tr th:only-of-type {\n",
       "        vertical-align: middle;\n",
       "    }\n",
       "\n",
       "    .dataframe tbody tr th {\n",
       "        vertical-align: top;\n",
       "    }\n",
       "\n",
       "    .dataframe thead th {\n",
       "        text-align: right;\n",
       "    }\n",
       "</style>\n",
       "<table border=\"1\" class=\"dataframe\">\n",
       "  <thead>\n",
       "    <tr style=\"text-align: right;\">\n",
       "      <th></th>\n",
       "      <th>Country or Area</th>\n",
       "      <th>Year</th>\n",
       "      <th>Value</th>\n",
       "    </tr>\n",
       "  </thead>\n",
       "  <tbody>\n",
       "    <tr>\n",
       "      <th>4485</th>\n",
       "      <td>Zimbabwe</td>\n",
       "      <td>2002</td>\n",
       "      <td>3.994356</td>\n",
       "    </tr>\n",
       "    <tr>\n",
       "      <th>4486</th>\n",
       "      <td>Zimbabwe</td>\n",
       "      <td>2001</td>\n",
       "      <td>0.799846</td>\n",
       "    </tr>\n",
       "    <tr>\n",
       "      <th>4487</th>\n",
       "      <td>Zimbabwe</td>\n",
       "      <td>2000</td>\n",
       "      <td>0.401434</td>\n",
       "    </tr>\n",
       "    <tr>\n",
       "      <th>4488</th>\n",
       "      <td>Zimbabwe</td>\n",
       "      <td>1999</td>\n",
       "      <td>0.161676</td>\n",
       "    </tr>\n",
       "    <tr>\n",
       "      <th>4489</th>\n",
       "      <td>Zimbabwe</td>\n",
       "      <td>1998</td>\n",
       "      <td>0.081648</td>\n",
       "    </tr>\n",
       "    <tr>\n",
       "      <th>4490</th>\n",
       "      <td>Zimbabwe</td>\n",
       "      <td>1997</td>\n",
       "      <td>0.033080</td>\n",
       "    </tr>\n",
       "    <tr>\n",
       "      <th>4491</th>\n",
       "      <td>Zimbabwe</td>\n",
       "      <td>1996</td>\n",
       "      <td>0.016790</td>\n",
       "    </tr>\n",
       "    <tr>\n",
       "      <th>4492</th>\n",
       "      <td>Zimbabwe</td>\n",
       "      <td>1995</td>\n",
       "      <td>0.007684</td>\n",
       "    </tr>\n",
       "    <tr>\n",
       "      <th>4493</th>\n",
       "      <td>Zimbabwe</td>\n",
       "      <td>1994</td>\n",
       "      <td>0.001739</td>\n",
       "    </tr>\n",
       "    <tr>\n",
       "      <th>4494</th>\n",
       "      <td>Zimbabwe</td>\n",
       "      <td>1990</td>\n",
       "      <td>0.000000</td>\n",
       "    </tr>\n",
       "  </tbody>\n",
       "</table>\n",
       "</div>"
      ],
      "text/plain": [
       "     Country or Area  Year     Value\n",
       "4485        Zimbabwe  2002  3.994356\n",
       "4486        Zimbabwe  2001  0.799846\n",
       "4487        Zimbabwe  2000  0.401434\n",
       "4488        Zimbabwe  1999  0.161676\n",
       "4489        Zimbabwe  1998  0.081648\n",
       "4490        Zimbabwe  1997  0.033080\n",
       "4491        Zimbabwe  1996  0.016790\n",
       "4492        Zimbabwe  1995  0.007684\n",
       "4493        Zimbabwe  1994  0.001739\n",
       "4494        Zimbabwe  1990  0.000000"
      ]
     },
<<<<<<< HEAD
     "execution_count": 9,
=======
     "execution_count": 45,
>>>>>>> 306ef1450316ae024bf9d188b5ab3d2e618ee856
     "metadata": {},
     "output_type": "execute_result"
    }
   ],
   "source": [
    "del internet_df['Value Footnotes']\n",
    "internet_df.tail(10)"
   ]
  },
  {
   "cell_type": "code",
<<<<<<< HEAD
   "execution_count": 10,
=======
   "execution_count": 46,
>>>>>>> 306ef1450316ae024bf9d188b5ab3d2e618ee856
   "metadata": {},
   "outputs": [
    {
     "data": {
      "text/plain": [
       "Index(['Country or Area', 'Year', 'Value'], dtype='object')"
      ]
     },
<<<<<<< HEAD
     "execution_count": 10,
=======
     "execution_count": 46,
>>>>>>> 306ef1450316ae024bf9d188b5ab3d2e618ee856
     "metadata": {},
     "output_type": "execute_result"
    }
   ],
   "source": [
    "gdp_df.columns"
   ]
  },
  {
   "cell_type": "code",
<<<<<<< HEAD
   "execution_count": 11,
=======
   "execution_count": 47,
>>>>>>> 306ef1450316ae024bf9d188b5ab3d2e618ee856
   "metadata": {},
   "outputs": [],
   "source": [
    "gdp_df.columns=['Country','Year','GDP_Per_Capita']\n",
    "internet_df.columns=['Country','Year','Internet_Users_Pct']\n"
<<<<<<< HEAD
   ]
  },
  {
   "cell_type": "code",
   "execution_count": 12,
   "metadata": {},
   "outputs": [
    {
     "data": {
      "text/html": [
       "<div>\n",
       "<style scoped>\n",
       "    .dataframe tbody tr th:only-of-type {\n",
       "        vertical-align: middle;\n",
       "    }\n",
       "\n",
       "    .dataframe tbody tr th {\n",
       "        vertical-align: top;\n",
       "    }\n",
       "\n",
       "    .dataframe thead th {\n",
       "        text-align: right;\n",
       "    }\n",
       "</style>\n",
       "<table border=\"1\" class=\"dataframe\">\n",
       "  <thead>\n",
       "    <tr style=\"text-align: right;\">\n",
       "      <th></th>\n",
       "      <th>Country</th>\n",
       "      <th>Year</th>\n",
       "      <th>Internet_Users_Pct</th>\n",
       "    </tr>\n",
       "  </thead>\n",
       "  <tbody>\n",
       "    <tr>\n",
       "      <th>0</th>\n",
       "      <td>Afghanistan</td>\n",
       "      <td>2014</td>\n",
       "      <td>6.390000</td>\n",
       "    </tr>\n",
       "    <tr>\n",
       "      <th>1</th>\n",
       "      <td>Afghanistan</td>\n",
       "      <td>2013</td>\n",
       "      <td>5.900000</td>\n",
       "    </tr>\n",
       "    <tr>\n",
       "      <th>2</th>\n",
       "      <td>Afghanistan</td>\n",
       "      <td>2012</td>\n",
       "      <td>5.454545</td>\n",
       "    </tr>\n",
       "    <tr>\n",
       "      <th>3</th>\n",
       "      <td>Afghanistan</td>\n",
       "      <td>2011</td>\n",
       "      <td>5.000000</td>\n",
       "    </tr>\n",
       "    <tr>\n",
       "      <th>4</th>\n",
       "      <td>Afghanistan</td>\n",
       "      <td>2010</td>\n",
       "      <td>4.000000</td>\n",
       "    </tr>\n",
       "  </tbody>\n",
       "</table>\n",
       "</div>"
      ],
      "text/plain": [
       "       Country  Year  Internet_Users_Pct\n",
       "0  Afghanistan  2014            6.390000\n",
       "1  Afghanistan  2013            5.900000\n",
       "2  Afghanistan  2012            5.454545\n",
       "3  Afghanistan  2011            5.000000\n",
       "4  Afghanistan  2010            4.000000"
      ]
     },
     "execution_count": 12,
     "metadata": {},
     "output_type": "execute_result"
    }
   ],
   "source": [
    "internet_df.head()"
   ]
  },
  {
   "cell_type": "code",
   "execution_count": 13,
   "metadata": {},
   "outputs": [
    {
     "data": {
      "text/html": [
       "<div>\n",
       "<style scoped>\n",
       "    .dataframe tbody tr th:only-of-type {\n",
       "        vertical-align: middle;\n",
       "    }\n",
       "\n",
       "    .dataframe tbody tr th {\n",
       "        vertical-align: top;\n",
       "    }\n",
       "\n",
       "    .dataframe thead th {\n",
       "        text-align: right;\n",
       "    }\n",
       "</style>\n",
       "<table border=\"1\" class=\"dataframe\">\n",
       "  <thead>\n",
       "    <tr style=\"text-align: right;\">\n",
       "      <th></th>\n",
       "      <th>Country</th>\n",
       "      <th>Year</th>\n",
       "      <th>GDP_Per_Capita</th>\n",
       "      <th>Internet_Users_Pct</th>\n",
       "    </tr>\n",
       "  </thead>\n",
       "  <tbody>\n",
       "    <tr>\n",
       "      <th>0</th>\n",
       "      <td>Afghanistan</td>\n",
       "      <td>2016</td>\n",
       "      <td>1802.695566</td>\n",
       "      <td>NaN</td>\n",
       "    </tr>\n",
       "    <tr>\n",
       "      <th>1</th>\n",
       "      <td>Afghanistan</td>\n",
       "      <td>2015</td>\n",
       "      <td>1809.016488</td>\n",
       "      <td>NaN</td>\n",
       "    </tr>\n",
       "    <tr>\n",
       "      <th>2</th>\n",
       "      <td>Afghanistan</td>\n",
       "      <td>2014</td>\n",
       "      <td>1838.960244</td>\n",
       "      <td>6.390000</td>\n",
       "    </tr>\n",
       "    <tr>\n",
       "      <th>3</th>\n",
       "      <td>Afghanistan</td>\n",
       "      <td>2013</td>\n",
       "      <td>1848.700026</td>\n",
       "      <td>5.900000</td>\n",
       "    </tr>\n",
       "    <tr>\n",
       "      <th>4</th>\n",
       "      <td>Afghanistan</td>\n",
       "      <td>2012</td>\n",
       "      <td>1839.273579</td>\n",
       "      <td>5.454545</td>\n",
       "    </tr>\n",
       "  </tbody>\n",
       "</table>\n",
       "</div>"
      ],
      "text/plain": [
       "       Country  Year  GDP_Per_Capita  Internet_Users_Pct\n",
       "0  Afghanistan  2016     1802.695566                 NaN\n",
       "1  Afghanistan  2015     1809.016488                 NaN\n",
       "2  Afghanistan  2014     1838.960244            6.390000\n",
       "3  Afghanistan  2013     1848.700026            5.900000\n",
       "4  Afghanistan  2012     1839.273579            5.454545"
      ]
     },
     "execution_count": 13,
     "metadata": {},
     "output_type": "execute_result"
    }
   ],
   "source": [
    "gdp_and_internet_use=pd.merge(gdp_df, internet_df, on = ['Country', 'Year'], how = 'outer')\n",
    "gdp_and_internet_use.head()"
=======
>>>>>>> 306ef1450316ae024bf9d188b5ab3d2e618ee856
   ]
  },
  {
   "cell_type": "code",
<<<<<<< HEAD
   "execution_count": 14,
=======
   "execution_count": 48,
>>>>>>> 306ef1450316ae024bf9d188b5ab3d2e618ee856
   "metadata": {},
   "outputs": [
    {
     "data": {
      "text/html": [
       "<div>\n",
       "<style scoped>\n",
       "    .dataframe tbody tr th:only-of-type {\n",
       "        vertical-align: middle;\n",
       "    }\n",
       "\n",
       "    .dataframe tbody tr th {\n",
       "        vertical-align: top;\n",
       "    }\n",
       "\n",
       "    .dataframe thead th {\n",
       "        text-align: right;\n",
       "    }\n",
       "</style>\n",
       "<table border=\"1\" class=\"dataframe\">\n",
       "  <thead>\n",
       "    <tr style=\"text-align: right;\">\n",
       "      <th></th>\n",
       "      <th>Country</th>\n",
       "      <th>Year</th>\n",
<<<<<<< HEAD
       "      <th>GDP_Per_Capita</th>\n",
=======
>>>>>>> 306ef1450316ae024bf9d188b5ab3d2e618ee856
       "      <th>Internet_Users_Pct</th>\n",
       "    </tr>\n",
       "  </thead>\n",
       "  <tbody>\n",
       "    <tr>\n",
<<<<<<< HEAD
       "      <th>7172</th>\n",
       "      <td>Virgin Islands (U.S.)</td>\n",
       "      <td>1997</td>\n",
       "      <td>NaN</td>\n",
       "      <td>6.948369</td>\n",
       "    </tr>\n",
       "    <tr>\n",
       "      <th>7173</th>\n",
       "      <td>Virgin Islands (U.S.)</td>\n",
       "      <td>1996</td>\n",
       "      <td>NaN</td>\n",
       "      <td>4.647186</td>\n",
       "    </tr>\n",
       "    <tr>\n",
       "      <th>7174</th>\n",
       "      <td>Virgin Islands (U.S.)</td>\n",
       "      <td>1995</td>\n",
       "      <td>NaN</td>\n",
       "      <td>2.801958</td>\n",
       "    </tr>\n",
       "    <tr>\n",
       "      <th>7175</th>\n",
       "      <td>Virgin Islands (U.S.)</td>\n",
       "      <td>1994</td>\n",
       "      <td>NaN</td>\n",
       "      <td>0.940645</td>\n",
       "    </tr>\n",
       "    <tr>\n",
       "      <th>7176</th>\n",
       "      <td>Virgin Islands (U.S.)</td>\n",
       "      <td>1990</td>\n",
       "      <td>NaN</td>\n",
       "      <td>0.000000</td>\n",
=======
       "      <th>0</th>\n",
       "      <td>Afghanistan</td>\n",
       "      <td>2014</td>\n",
       "      <td>6.390000</td>\n",
       "    </tr>\n",
       "    <tr>\n",
       "      <th>1</th>\n",
       "      <td>Afghanistan</td>\n",
       "      <td>2013</td>\n",
       "      <td>5.900000</td>\n",
       "    </tr>\n",
       "    <tr>\n",
       "      <th>2</th>\n",
       "      <td>Afghanistan</td>\n",
       "      <td>2012</td>\n",
       "      <td>5.454545</td>\n",
       "    </tr>\n",
       "    <tr>\n",
       "      <th>3</th>\n",
       "      <td>Afghanistan</td>\n",
       "      <td>2011</td>\n",
       "      <td>5.000000</td>\n",
       "    </tr>\n",
       "    <tr>\n",
       "      <th>4</th>\n",
       "      <td>Afghanistan</td>\n",
       "      <td>2010</td>\n",
       "      <td>4.000000</td>\n",
>>>>>>> 306ef1450316ae024bf9d188b5ab3d2e618ee856
       "    </tr>\n",
       "  </tbody>\n",
       "</table>\n",
       "</div>"
      ],
      "text/plain": [
<<<<<<< HEAD
       "                    Country  Year  GDP_Per_Capita  Internet_Users_Pct\n",
       "7172  Virgin Islands (U.S.)  1997             NaN            6.948369\n",
       "7173  Virgin Islands (U.S.)  1996             NaN            4.647186\n",
       "7174  Virgin Islands (U.S.)  1995             NaN            2.801958\n",
       "7175  Virgin Islands (U.S.)  1994             NaN            0.940645\n",
       "7176  Virgin Islands (U.S.)  1990             NaN            0.000000"
      ]
     },
     "execution_count": 14,
=======
       "       Country  Year  Internet_Users_Pct\n",
       "0  Afghanistan  2014            6.390000\n",
       "1  Afghanistan  2013            5.900000\n",
       "2  Afghanistan  2012            5.454545\n",
       "3  Afghanistan  2011            5.000000\n",
       "4  Afghanistan  2010            4.000000"
      ]
     },
     "execution_count": 48,
     "metadata": {},
     "output_type": "execute_result"
    }
   ],
   "source": [
    "internet_df.head()"
   ]
  },
  {
   "cell_type": "code",
   "execution_count": 49,
   "metadata": {},
   "outputs": [
    {
     "data": {
      "text/html": [
       "<div>\n",
       "<style scoped>\n",
       "    .dataframe tbody tr th:only-of-type {\n",
       "        vertical-align: middle;\n",
       "    }\n",
       "\n",
       "    .dataframe tbody tr th {\n",
       "        vertical-align: top;\n",
       "    }\n",
       "\n",
       "    .dataframe thead th {\n",
       "        text-align: right;\n",
       "    }\n",
       "</style>\n",
       "<table border=\"1\" class=\"dataframe\">\n",
       "  <thead>\n",
       "    <tr style=\"text-align: right;\">\n",
       "      <th></th>\n",
       "      <th>Country</th>\n",
       "      <th>Year</th>\n",
       "      <th>GDP_Per_Capita</th>\n",
       "      <th>Internet_Users_Pct</th>\n",
       "    </tr>\n",
       "  </thead>\n",
       "  <tbody>\n",
       "    <tr>\n",
       "      <th>0</th>\n",
       "      <td>Afghanistan</td>\n",
       "      <td>2016</td>\n",
       "      <td>1802.695566</td>\n",
       "      <td>NaN</td>\n",
       "    </tr>\n",
       "    <tr>\n",
       "      <th>1</th>\n",
       "      <td>Afghanistan</td>\n",
       "      <td>2015</td>\n",
       "      <td>1809.016488</td>\n",
       "      <td>NaN</td>\n",
       "    </tr>\n",
       "    <tr>\n",
       "      <th>2</th>\n",
       "      <td>Afghanistan</td>\n",
       "      <td>2014</td>\n",
       "      <td>1838.960244</td>\n",
       "      <td>6.390000</td>\n",
       "    </tr>\n",
       "    <tr>\n",
       "      <th>3</th>\n",
       "      <td>Afghanistan</td>\n",
       "      <td>2013</td>\n",
       "      <td>1848.700026</td>\n",
       "      <td>5.900000</td>\n",
       "    </tr>\n",
       "    <tr>\n",
       "      <th>4</th>\n",
       "      <td>Afghanistan</td>\n",
       "      <td>2012</td>\n",
       "      <td>1839.273579</td>\n",
       "      <td>5.454545</td>\n",
       "    </tr>\n",
       "  </tbody>\n",
       "</table>\n",
       "</div>"
      ],
      "text/plain": [
       "       Country  Year  GDP_Per_Capita  Internet_Users_Pct\n",
       "0  Afghanistan  2016     1802.695566                 NaN\n",
       "1  Afghanistan  2015     1809.016488                 NaN\n",
       "2  Afghanistan  2014     1838.960244            6.390000\n",
       "3  Afghanistan  2013     1848.700026            5.900000\n",
       "4  Afghanistan  2012     1839.273579            5.454545"
      ]
     },
     "execution_count": 49,
     "metadata": {},
     "output_type": "execute_result"
    }
   ],
   "source": [
    "gdp_and_internet_use=pd.merge(gdp_df, internet_df, on = ['Country', 'Year'], how = 'outer')\n",
    "gdp_and_internet_use.head()"
   ]
  },
  {
   "cell_type": "code",
   "execution_count": 50,
   "metadata": {},
   "outputs": [
    {
     "data": {
      "text/html": [
       "<div>\n",
       "<style scoped>\n",
       "    .dataframe tbody tr th:only-of-type {\n",
       "        vertical-align: middle;\n",
       "    }\n",
       "\n",
       "    .dataframe tbody tr th {\n",
       "        vertical-align: top;\n",
       "    }\n",
       "\n",
       "    .dataframe thead th {\n",
       "        text-align: right;\n",
       "    }\n",
       "</style>\n",
       "<table border=\"1\" class=\"dataframe\">\n",
       "  <thead>\n",
       "    <tr style=\"text-align: right;\">\n",
       "      <th></th>\n",
       "      <th>Country</th>\n",
       "      <th>Year</th>\n",
       "      <th>GDP_Per_Capita</th>\n",
       "      <th>Internet_Users_Pct</th>\n",
       "    </tr>\n",
       "  </thead>\n",
       "  <tbody>\n",
       "    <tr>\n",
       "      <th>7172</th>\n",
       "      <td>Virgin Islands (U.S.)</td>\n",
       "      <td>1997</td>\n",
       "      <td>NaN</td>\n",
       "      <td>6.948369</td>\n",
       "    </tr>\n",
       "    <tr>\n",
       "      <th>7173</th>\n",
       "      <td>Virgin Islands (U.S.)</td>\n",
       "      <td>1996</td>\n",
       "      <td>NaN</td>\n",
       "      <td>4.647186</td>\n",
       "    </tr>\n",
       "    <tr>\n",
       "      <th>7174</th>\n",
       "      <td>Virgin Islands (U.S.)</td>\n",
       "      <td>1995</td>\n",
       "      <td>NaN</td>\n",
       "      <td>2.801958</td>\n",
       "    </tr>\n",
       "    <tr>\n",
       "      <th>7175</th>\n",
       "      <td>Virgin Islands (U.S.)</td>\n",
       "      <td>1994</td>\n",
       "      <td>NaN</td>\n",
       "      <td>0.940645</td>\n",
       "    </tr>\n",
       "    <tr>\n",
       "      <th>7176</th>\n",
       "      <td>Virgin Islands (U.S.)</td>\n",
       "      <td>1990</td>\n",
       "      <td>NaN</td>\n",
       "      <td>0.000000</td>\n",
       "    </tr>\n",
       "  </tbody>\n",
       "</table>\n",
       "</div>"
      ],
      "text/plain": [
       "                    Country  Year  GDP_Per_Capita  Internet_Users_Pct\n",
       "7172  Virgin Islands (U.S.)  1997             NaN            6.948369\n",
       "7173  Virgin Islands (U.S.)  1996             NaN            4.647186\n",
       "7174  Virgin Islands (U.S.)  1995             NaN            2.801958\n",
       "7175  Virgin Islands (U.S.)  1994             NaN            0.940645\n",
       "7176  Virgin Islands (U.S.)  1990             NaN            0.000000"
      ]
     },
     "execution_count": 50,
     "metadata": {},
     "output_type": "execute_result"
    }
   ],
   "source": [
    "gdp_and_internet_use.tail()"
   ]
  },
  {
   "cell_type": "code",
   "execution_count": 53,
   "metadata": {
    "scrolled": true
   },
   "outputs": [
    {
     "data": {
      "text/html": [
       "<div>\n",
       "<style scoped>\n",
       "    .dataframe tbody tr th:only-of-type {\n",
       "        vertical-align: middle;\n",
       "    }\n",
       "\n",
       "    .dataframe tbody tr th {\n",
       "        vertical-align: top;\n",
       "    }\n",
       "\n",
       "    .dataframe thead th {\n",
       "        text-align: right;\n",
       "    }\n",
       "</style>\n",
       "<table border=\"1\" class=\"dataframe\">\n",
       "  <thead>\n",
       "    <tr style=\"text-align: right;\">\n",
       "      <th></th>\n",
       "      <th>Country</th>\n",
       "      <th>Year</th>\n",
       "      <th>GDP_Per_Capita</th>\n",
       "      <th>Internet_Users_Pct</th>\n",
       "    </tr>\n",
       "  </thead>\n",
       "  <tbody>\n",
       "    <tr>\n",
       "      <th>2</th>\n",
       "      <td>Afghanistan</td>\n",
       "      <td>2014</td>\n",
       "      <td>1838.960244</td>\n",
       "      <td>6.390000</td>\n",
       "    </tr>\n",
       "    <tr>\n",
       "      <th>7</th>\n",
       "      <td>Afghanistan</td>\n",
       "      <td>2009</td>\n",
       "      <td>1531.173993</td>\n",
       "      <td>3.550000</td>\n",
       "    </tr>\n",
       "    <tr>\n",
       "      <th>12</th>\n",
       "      <td>Afghanistan</td>\n",
       "      <td>2004</td>\n",
       "      <td>1062.249360</td>\n",
       "      <td>0.105809</td>\n",
       "    </tr>\n",
       "    <tr>\n",
       "      <th>17</th>\n",
       "      <td>Albania</td>\n",
       "      <td>2014</td>\n",
       "      <td>10701.120786</td>\n",
       "      <td>60.100000</td>\n",
       "    </tr>\n",
       "    <tr>\n",
       "      <th>22</th>\n",
       "      <td>Albania</td>\n",
       "      <td>2009</td>\n",
       "      <td>9524.649303</td>\n",
       "      <td>41.200000</td>\n",
       "    </tr>\n",
       "  </tbody>\n",
       "</table>\n",
       "</div>"
      ],
      "text/plain": [
       "        Country  Year  GDP_Per_Capita  Internet_Users_Pct\n",
       "2   Afghanistan  2014     1838.960244            6.390000\n",
       "7   Afghanistan  2009     1531.173993            3.550000\n",
       "12  Afghanistan  2004     1062.249360            0.105809\n",
       "17      Albania  2014    10701.120786           60.100000\n",
       "22      Albania  2009     9524.649303           41.200000"
      ]
     },
     "execution_count": 53,
     "metadata": {},
     "output_type": "execute_result"
    }
   ],
   "source": [
    "years = [2004, 2009, 2014]\n",
    "gdp_and_internet_use_years = gdp_and_internet_use[gdp_and_internet_use.Year.isin(years)]\n",
    "gdp_and_internet_use_years.head()"
   ]
  },
  {
   "cell_type": "code",
   "execution_count": 58,
   "metadata": {},
   "outputs": [
    {
     "data": {
      "text/html": [
       "<div>\n",
       "<style scoped>\n",
       "    .dataframe tbody tr th:only-of-type {\n",
       "        vertical-align: middle;\n",
       "    }\n",
       "\n",
       "    .dataframe tbody tr th {\n",
       "        vertical-align: top;\n",
       "    }\n",
       "\n",
       "    .dataframe thead th {\n",
       "        text-align: right;\n",
       "    }\n",
       "</style>\n",
       "<table border=\"1\" class=\"dataframe\">\n",
       "  <thead>\n",
       "    <tr style=\"text-align: right;\">\n",
       "      <th></th>\n",
       "      <th>Country</th>\n",
       "      <th>Year</th>\n",
       "      <th>GDP_Per_Capita</th>\n",
       "      <th>Internet_Users_Pct</th>\n",
       "    </tr>\n",
       "  </thead>\n",
       "  <tbody>\n",
       "    <tr>\n",
       "      <th>12</th>\n",
       "      <td>Afghanistan</td>\n",
       "      <td>2004</td>\n",
       "      <td>1062.249360</td>\n",
       "      <td>0.105809</td>\n",
       "    </tr>\n",
       "    <tr>\n",
       "      <th>27</th>\n",
       "      <td>Albania</td>\n",
       "      <td>2004</td>\n",
       "      <td>7277.214908</td>\n",
       "      <td>2.420388</td>\n",
       "    </tr>\n",
       "    <tr>\n",
       "      <th>54</th>\n",
       "      <td>Algeria</td>\n",
       "      <td>2004</td>\n",
       "      <td>11797.184849</td>\n",
       "      <td>4.634475</td>\n",
       "    </tr>\n",
       "    <tr>\n",
       "      <th>81</th>\n",
       "      <td>Angola</td>\n",
       "      <td>2004</td>\n",
       "      <td>3461.018084</td>\n",
       "      <td>0.464815</td>\n",
       "    </tr>\n",
       "    <tr>\n",
       "      <th>108</th>\n",
       "      <td>Antigua and Barbuda</td>\n",
       "      <td>2004</td>\n",
       "      <td>19282.229791</td>\n",
       "      <td>24.266544</td>\n",
       "    </tr>\n",
       "  </tbody>\n",
       "</table>\n",
       "</div>"
      ],
      "text/plain": [
       "                 Country  Year  GDP_Per_Capita  Internet_Users_Pct\n",
       "12           Afghanistan  2004     1062.249360            0.105809\n",
       "27               Albania  2004     7277.214908            2.420388\n",
       "54               Algeria  2004    11797.184849            4.634475\n",
       "81                Angola  2004     3461.018084            0.464815\n",
       "108  Antigua and Barbuda  2004    19282.229791           24.266544"
      ]
     },
     "execution_count": 58,
     "metadata": {},
     "output_type": "execute_result"
    }
   ],
   "source": [
    "year_2004 = [2004]\n",
    "gdp_and_internet_use_2004 = gdp_and_internet_use_years[gdp_and_internet_use_years.Year == 2004]\n",
    "gdp_and_internet_use_2004.head()"
   ]
  },
  {
   "cell_type": "code",
   "execution_count": 59,
   "metadata": {},
   "outputs": [
    {
     "data": {
      "text/html": [
       "<div>\n",
       "<style scoped>\n",
       "    .dataframe tbody tr th:only-of-type {\n",
       "        vertical-align: middle;\n",
       "    }\n",
       "\n",
       "    .dataframe tbody tr th {\n",
       "        vertical-align: top;\n",
       "    }\n",
       "\n",
       "    .dataframe thead th {\n",
       "        text-align: right;\n",
       "    }\n",
       "</style>\n",
       "<table border=\"1\" class=\"dataframe\">\n",
       "  <thead>\n",
       "    <tr style=\"text-align: right;\">\n",
       "      <th></th>\n",
       "      <th>Country</th>\n",
       "      <th>Year</th>\n",
       "      <th>GDP_Per_Capita</th>\n",
       "      <th>Internet_Users_Pct</th>\n",
       "    </tr>\n",
       "  </thead>\n",
       "  <tbody>\n",
       "    <tr>\n",
       "      <th>7</th>\n",
       "      <td>Afghanistan</td>\n",
       "      <td>2009</td>\n",
       "      <td>1531.173993</td>\n",
       "      <td>3.55</td>\n",
       "    </tr>\n",
       "    <tr>\n",
       "      <th>22</th>\n",
       "      <td>Albania</td>\n",
       "      <td>2009</td>\n",
       "      <td>9524.649303</td>\n",
       "      <td>41.20</td>\n",
       "    </tr>\n",
       "    <tr>\n",
       "      <th>49</th>\n",
       "      <td>Algeria</td>\n",
       "      <td>2009</td>\n",
       "      <td>12647.540304</td>\n",
       "      <td>11.23</td>\n",
       "    </tr>\n",
       "    <tr>\n",
       "      <th>76</th>\n",
       "      <td>Angola</td>\n",
       "      <td>2009</td>\n",
       "      <td>5908.051427</td>\n",
       "      <td>6.00</td>\n",
       "    </tr>\n",
       "    <tr>\n",
       "      <th>103</th>\n",
       "      <td>Antigua and Barbuda</td>\n",
       "      <td>2009</td>\n",
       "      <td>20942.301180</td>\n",
       "      <td>42.00</td>\n",
       "    </tr>\n",
       "  </tbody>\n",
       "</table>\n",
       "</div>"
      ],
      "text/plain": [
       "                 Country  Year  GDP_Per_Capita  Internet_Users_Pct\n",
       "7            Afghanistan  2009     1531.173993                3.55\n",
       "22               Albania  2009     9524.649303               41.20\n",
       "49               Algeria  2009    12647.540304               11.23\n",
       "76                Angola  2009     5908.051427                6.00\n",
       "103  Antigua and Barbuda  2009    20942.301180               42.00"
      ]
     },
     "execution_count": 59,
     "metadata": {},
     "output_type": "execute_result"
    }
   ],
   "source": [
    "year_2009 = [2009]\n",
    "gdp_and_internet_use_2009 = gdp_and_internet_use_years[gdp_and_internet_use_years.Year == 2009]\n",
    "gdp_and_internet_use_2009.head()"
   ]
  },
  {
   "cell_type": "code",
   "execution_count": 60,
   "metadata": {},
   "outputs": [
    {
     "data": {
      "text/html": [
       "<div>\n",
       "<style scoped>\n",
       "    .dataframe tbody tr th:only-of-type {\n",
       "        vertical-align: middle;\n",
       "    }\n",
       "\n",
       "    .dataframe tbody tr th {\n",
       "        vertical-align: top;\n",
       "    }\n",
       "\n",
       "    .dataframe thead th {\n",
       "        text-align: right;\n",
       "    }\n",
       "</style>\n",
       "<table border=\"1\" class=\"dataframe\">\n",
       "  <thead>\n",
       "    <tr style=\"text-align: right;\">\n",
       "      <th></th>\n",
       "      <th>Country</th>\n",
       "      <th>Year</th>\n",
       "      <th>GDP_Per_Capita</th>\n",
       "      <th>Internet_Users_Pct</th>\n",
       "    </tr>\n",
       "  </thead>\n",
       "  <tbody>\n",
       "    <tr>\n",
       "      <th>2</th>\n",
       "      <td>Afghanistan</td>\n",
       "      <td>2014</td>\n",
       "      <td>1838.960244</td>\n",
       "      <td>6.39</td>\n",
       "    </tr>\n",
       "    <tr>\n",
       "      <th>17</th>\n",
       "      <td>Albania</td>\n",
       "      <td>2014</td>\n",
       "      <td>10701.120786</td>\n",
       "      <td>60.10</td>\n",
       "    </tr>\n",
       "    <tr>\n",
       "      <th>44</th>\n",
       "      <td>Algeria</td>\n",
       "      <td>2014</td>\n",
       "      <td>13483.337862</td>\n",
       "      <td>18.09</td>\n",
       "    </tr>\n",
       "    <tr>\n",
       "      <th>71</th>\n",
       "      <td>Angola</td>\n",
       "      <td>2014</td>\n",
       "      <td>6260.132681</td>\n",
       "      <td>21.26</td>\n",
       "    </tr>\n",
       "    <tr>\n",
       "      <th>98</th>\n",
       "      <td>Antigua and Barbuda</td>\n",
       "      <td>2014</td>\n",
       "      <td>19573.834118</td>\n",
       "      <td>64.00</td>\n",
       "    </tr>\n",
       "  </tbody>\n",
       "</table>\n",
       "</div>"
      ],
      "text/plain": [
       "                Country  Year  GDP_Per_Capita  Internet_Users_Pct\n",
       "2           Afghanistan  2014     1838.960244                6.39\n",
       "17              Albania  2014    10701.120786               60.10\n",
       "44              Algeria  2014    13483.337862               18.09\n",
       "71               Angola  2014     6260.132681               21.26\n",
       "98  Antigua and Barbuda  2014    19573.834118               64.00"
      ]
     },
     "execution_count": 60,
     "metadata": {},
     "output_type": "execute_result"
    }
   ],
   "source": [
    "year_2014 = [2014]\n",
    "gdp_and_internet_use_2014 = gdp_and_internet_use_years[gdp_and_internet_use_years.Year == 2014]\n",
    "gdp_and_internet_use_2014.head()"
   ]
  },
  {
   "cell_type": "code",
   "execution_count": 62,
   "metadata": {},
   "outputs": [
    {
     "data": {
      "text/plain": [
       "Country               Iceland\n",
       "Year                     2014\n",
       "GDP_Per_Capita        41701.1\n",
       "Internet_Users_Pct      98.16\n",
       "Name: 2332, dtype: object"
      ]
     },
     "execution_count": 62,
     "metadata": {},
     "output_type": "execute_result"
    }
   ],
   "source": [
    "gdp_and_internet_use_2014.loc[gdp_and_internet_use_2014['Internet_Users_Pct'].idxmax()]"
   ]
  },
  {
   "cell_type": "code",
   "execution_count": 63,
   "metadata": {},
   "outputs": [
    {
     "data": {
      "text/plain": [
       "Country               Dem. People's Rep. of Korea\n",
       "Year                                         2014\n",
       "GDP_Per_Capita                                NaN\n",
       "Internet_Users_Pct                              0\n",
       "Name: 6443, dtype: object"
      ]
     },
     "execution_count": 63,
     "metadata": {},
     "output_type": "execute_result"
    }
   ],
   "source": [
    "gdp_and_internet_use_2014.loc[gdp_and_internet_use_2014['Internet_Users_Pct'].idxmin()]"
   ]
  },
  {
   "cell_type": "code",
   "execution_count": 64,
   "metadata": {},
   "outputs": [
    {
     "data": {
      "text/plain": [
       "Country               Iceland\n",
       "Year                     2009\n",
       "GDP_Per_Capita        40189.6\n",
       "Internet_Users_Pct         93\n",
       "Name: 2337, dtype: object"
      ]
     },
     "execution_count": 64,
     "metadata": {},
     "output_type": "execute_result"
    }
   ],
   "source": [
    "gdp_and_internet_use_2009.loc[gdp_and_internet_use_2009['Internet_Users_Pct'].idxmax()]"
   ]
  },
  {
   "cell_type": "code",
   "execution_count": 65,
   "metadata": {},
   "outputs": [
    {
     "data": {
      "text/plain": [
       "Country               Dem. People's Rep. of Korea\n",
       "Year                                         2009\n",
       "GDP_Per_Capita                                NaN\n",
       "Internet_Users_Pct                              0\n",
       "Name: 6447, dtype: object"
      ]
     },
     "execution_count": 65,
     "metadata": {},
     "output_type": "execute_result"
    }
   ],
   "source": [
    "gdp_and_internet_use_2009.loc[gdp_and_internet_use_2009['Internet_Users_Pct'].idxmin()]"
   ]
  },
  {
   "cell_type": "code",
   "execution_count": 67,
   "metadata": {},
   "outputs": [
    {
     "data": {
      "text/plain": [
       "Country               Dem. People's Rep. of Korea\n",
       "Year                                         2004\n",
       "GDP_Per_Capita                                NaN\n",
       "Internet_Users_Pct                              0\n",
       "Name: 6452, dtype: object"
      ]
     },
     "execution_count": 67,
     "metadata": {},
     "output_type": "execute_result"
    }
   ],
   "source": [
    "gdp_and_internet_use_2004.loc[gdp_and_internet_use_2004['Internet_Users_Pct'].idxmin()]"
   ]
  },
  {
   "cell_type": "code",
   "execution_count": 68,
   "metadata": {},
   "outputs": [
    {
     "data": {
      "text/plain": [
       "Country                Sweden\n",
       "Year                     2004\n",
       "GDP_Per_Capita        40257.9\n",
       "Internet_Users_Pct      83.89\n",
       "Name: 5397, dtype: object"
      ]
     },
     "execution_count": 68,
     "metadata": {},
     "output_type": "execute_result"
    }
   ],
   "source": [
    "gdp_and_internet_use_2004.loc[gdp_and_internet_use_2004['Internet_Users_Pct'].idxmax()]"
   ]
  },
  {
   "cell_type": "code",
   "execution_count": 69,
   "metadata": {},
   "outputs": [
    {
     "data": {
      "text/plain": [
       "Country               Macao SAR, China\n",
       "Year                              2014\n",
       "GDP_Per_Capita                  130755\n",
       "Internet_Users_Pct                 NaN\n",
       "Name: 3319, dtype: object"
      ]
     },
     "execution_count": 69,
     "metadata": {},
     "output_type": "execute_result"
    }
   ],
   "source": [
    "gdp_and_internet_use_2014.loc[gdp_and_internet_use_2014['GDP_Per_Capita'].idxmax()]"
   ]
  },
  {
   "cell_type": "code",
   "execution_count": 70,
   "metadata": {},
   "outputs": [
    {
     "data": {
      "text/plain": [
       "Country               Central African Republic\n",
       "Year                                      2014\n",
       "GDP_Per_Capita                         601.786\n",
       "Internet_Users_Pct                         NaN\n",
       "Name: 899, dtype: object"
      ]
     },
     "execution_count": 70,
     "metadata": {},
     "output_type": "execute_result"
    }
   ],
   "source": [
    "gdp_and_internet_use_2014.loc[gdp_and_internet_use_2014['GDP_Per_Capita'].idxmin()]"
   ]
  },
  {
   "cell_type": "code",
   "execution_count": 74,
   "metadata": {},
   "outputs": [
    {
     "data": {
      "image/png": "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\n",
      "text/plain": [
       "<Figure size 432x288 with 1 Axes>"
      ]
     },
     "metadata": {},
     "output_type": "display_data"
    }
   ],
   "source": [
    "x_2004 = gdp_and_internet_use_2004['Internet_Users_Pct']\n",
    "y_2004 = gdp_and_internet_use_2004['GDP_Per_Capita']\n",
    "plt.scatter(x_2004,y_2004)\n",
    "xlab = 'Percentage of Internet Users in 2004 (%)'\n",
    "ylab = 'GDP Per Capita in 2004'\n",
    "title = '2004 Percent Using the Internet vs. GDP Per Capita'\n",
    "plt.xlabel(xlab)\n",
    "plt.ylabel(ylab)\n",
    "plt.title(title)\n",
    "plt.show()"
   ]
  },
  {
   "cell_type": "code",
   "execution_count": 75,
   "metadata": {},
   "outputs": [
    {
     "data": {
      "image/png": "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\n",
      "text/plain": [
       "<Figure size 432x288 with 1 Axes>"
      ]
     },
     "metadata": {},
     "output_type": "display_data"
    }
   ],
   "source": [
    "x_2009 = gdp_and_internet_use_2009['Internet_Users_Pct']\n",
    "y_2009 = gdp_and_internet_use_2009['GDP_Per_Capita']\n",
    "plt.scatter(x_2009,y_2009)\n",
    "xlab1 = 'Percentage of Internet Users in 2009 (%)'\n",
    "ylab1 = 'GDP Per Capita in 2009'\n",
    "title1 = '2009 Percent Using the Internet vs. GDP Per Capita'\n",
    "plt.xlabel(xlab1)\n",
    "plt.ylabel(ylab1)\n",
    "plt.title(title1)\n",
    "plt.show()"
   ]
  },
  {
   "cell_type": "code",
   "execution_count": 76,
   "metadata": {},
   "outputs": [
    {
     "data": {
      "image/png": "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\n",
      "text/plain": [
       "<Figure size 432x288 with 1 Axes>"
      ]
     },
     "metadata": {},
     "output_type": "display_data"
    }
   ],
   "source": [
    "x_2014 = gdp_and_internet_use_2014['Internet_Users_Pct']\n",
    "y_2014 = gdp_and_internet_use_2014['GDP_Per_Capita']\n",
    "plt.scatter(x_2014,y_2014)\n",
    "xlab2 = 'Percentage of Internet Users in 2014 (%)'\n",
    "ylab2 = 'GDP Per Capita in 2014'\n",
    "title2 = '2014 Percent Using the Internet vs. GDP Per Capita'\n",
    "plt.xlabel(xlab2)\n",
    "plt.ylabel(ylab2)\n",
    "plt.title(title2)\n",
    "plt.show()"
   ]
  },
  {
   "cell_type": "code",
   "execution_count": 77,
   "metadata": {},
   "outputs": [],
   "source": [
    "# 2014 data appears to resemble a more exponential trend line. \n",
    "# Furthermore, from 2004 - 2014 data appears to improve in it's capability\n",
    "# of being able to be more effectively mathematically modeled using an \n",
    "# exponential trend line."
   ]
  },
  {
   "cell_type": "code",
   "execution_count": 83,
   "metadata": {},
   "outputs": [
    {
     "data": {
      "text/plain": [
       "0    3473.927554\n",
       "dtype: float64"
      ]
     },
     "execution_count": 83,
     "metadata": {},
     "output_type": "execute_result"
    }
   ],
   "source": [
    "gdp_and_internet_use_2014.loc[:,\"GDP_Per_Capita\"].mode()"
   ]
  },
  {
   "cell_type": "code",
   "execution_count": 89,
   "metadata": {},
   "outputs": [
    {
     "data": {
      "text/plain": [
       "array([[<matplotlib.axes._subplots.AxesSubplot object at 0x0000019D46556C88>]],\n",
       "      dtype=object)"
      ]
     },
     "execution_count": 89,
     "metadata": {},
     "output_type": "execute_result"
    },
    {
     "data": {
      "image/png": "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\n",
      "text/plain": [
       "<Figure size 432x288 with 1 Axes>"
      ]
     },
     "metadata": {},
     "output_type": "display_data"
    }
   ],
   "source": [
    "gdp_and_internet_use_2014.hist(column = 'GDP_Per_Capita')"
   ]
  },
  {
   "cell_type": "code",
   "execution_count": 90,
   "metadata": {},
   "outputs": [
    {
     "data": {
      "text/plain": [
       "array([[<matplotlib.axes._subplots.AxesSubplot object at 0x0000019D4C876C50>]],\n",
       "      dtype=object)"
      ]
     },
     "execution_count": 90,
     "metadata": {},
     "output_type": "execute_result"
    },
    {
     "data": {
      "image/png": "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\n",
      "text/plain": [
       "<Figure size 432x288 with 1 Axes>"
      ]
     },
     "metadata": {},
     "output_type": "display_data"
    }
   ],
   "source": [
    "gdp_and_internet_use_2014.hist(column = 'Internet_Users_Pct')"
   ]
  },
  {
   "cell_type": "code",
   "execution_count": 91,
   "metadata": {},
   "outputs": [
    {
     "data": {
      "text/plain": [
       "0     2.1\n",
       "1     9.0\n",
       "2    11.0\n",
       "3    43.0\n",
       "4    43.4\n",
       "5    61.0\n",
       "dtype: float64"
      ]
     },
     "execution_count": 91,
     "metadata": {},
     "output_type": "execute_result"
    }
   ],
   "source": [
    "gdp_and_internet_use_2014.loc[:,\"Internet_Users_Pct\"].mode()"
   ]
  },
  {
   "cell_type": "code",
   "execution_count": 92,
   "metadata": {},
   "outputs": [],
   "source": [
    "#It appears that the GDP data in 2014 is unimodal.  However, the percentage of Internet Users data is not unimodal."
   ]
  },
  {
   "cell_type": "code",
   "execution_count": 97,
   "metadata": {},
   "outputs": [
    {
     "data": {
      "text/plain": [
       "98.16"
      ]
     },
     "execution_count": 97,
>>>>>>> 306ef1450316ae024bf9d188b5ab3d2e618ee856
     "metadata": {},
     "output_type": "execute_result"
    }
   ],
   "source": [
<<<<<<< HEAD
    "gdp_and_internet_use.tail()"
   ]
  },
  {
   "cell_type": "code",
   "execution_count": 15,
   "metadata": {
    "scrolled": true
   },
   "outputs": [
    {
     "data": {
      "text/html": [
       "<div>\n",
       "<style scoped>\n",
       "    .dataframe tbody tr th:only-of-type {\n",
       "        vertical-align: middle;\n",
       "    }\n",
       "\n",
       "    .dataframe tbody tr th {\n",
       "        vertical-align: top;\n",
       "    }\n",
       "\n",
       "    .dataframe thead th {\n",
       "        text-align: right;\n",
       "    }\n",
       "</style>\n",
       "<table border=\"1\" class=\"dataframe\">\n",
       "  <thead>\n",
       "    <tr style=\"text-align: right;\">\n",
       "      <th></th>\n",
       "      <th>Country</th>\n",
       "      <th>Year</th>\n",
       "      <th>GDP_Per_Capita</th>\n",
       "      <th>Internet_Users_Pct</th>\n",
       "    </tr>\n",
       "  </thead>\n",
       "  <tbody>\n",
       "    <tr>\n",
       "      <th>2</th>\n",
       "      <td>Afghanistan</td>\n",
       "      <td>2014</td>\n",
       "      <td>1838.960244</td>\n",
       "      <td>6.390000</td>\n",
       "    </tr>\n",
       "    <tr>\n",
       "      <th>7</th>\n",
       "      <td>Afghanistan</td>\n",
       "      <td>2009</td>\n",
       "      <td>1531.173993</td>\n",
       "      <td>3.550000</td>\n",
       "    </tr>\n",
       "    <tr>\n",
       "      <th>12</th>\n",
       "      <td>Afghanistan</td>\n",
       "      <td>2004</td>\n",
       "      <td>1062.249360</td>\n",
       "      <td>0.105809</td>\n",
       "    </tr>\n",
       "    <tr>\n",
       "      <th>17</th>\n",
       "      <td>Albania</td>\n",
       "      <td>2014</td>\n",
       "      <td>10701.120786</td>\n",
       "      <td>60.100000</td>\n",
       "    </tr>\n",
       "    <tr>\n",
       "      <th>22</th>\n",
       "      <td>Albania</td>\n",
       "      <td>2009</td>\n",
       "      <td>9524.649303</td>\n",
       "      <td>41.200000</td>\n",
       "    </tr>\n",
       "  </tbody>\n",
       "</table>\n",
       "</div>"
      ],
      "text/plain": [
       "        Country  Year  GDP_Per_Capita  Internet_Users_Pct\n",
       "2   Afghanistan  2014     1838.960244            6.390000\n",
       "7   Afghanistan  2009     1531.173993            3.550000\n",
       "12  Afghanistan  2004     1062.249360            0.105809\n",
       "17      Albania  2014    10701.120786           60.100000\n",
       "22      Albania  2009     9524.649303           41.200000"
      ]
     },
     "execution_count": 15,
     "metadata": {},
     "output_type": "execute_result"
    }
   ],
   "source": [
    "years = [2004, 2009, 2014]\n",
    "gdp_and_internet_use_years = gdp_and_internet_use[gdp_and_internet_use.Year.isin(years)]\n",
    "gdp_and_internet_use_years.head()"
   ]
  },
  {
   "cell_type": "code",
   "execution_count": 16,
   "metadata": {},
   "outputs": [
    {
     "data": {
      "text/html": [
       "<div>\n",
       "<style scoped>\n",
       "    .dataframe tbody tr th:only-of-type {\n",
       "        vertical-align: middle;\n",
       "    }\n",
       "\n",
       "    .dataframe tbody tr th {\n",
       "        vertical-align: top;\n",
       "    }\n",
       "\n",
       "    .dataframe thead th {\n",
       "        text-align: right;\n",
       "    }\n",
       "</style>\n",
       "<table border=\"1\" class=\"dataframe\">\n",
       "  <thead>\n",
       "    <tr style=\"text-align: right;\">\n",
       "      <th></th>\n",
       "      <th>Country</th>\n",
       "      <th>Year</th>\n",
       "      <th>GDP_Per_Capita</th>\n",
       "      <th>Internet_Users_Pct</th>\n",
       "    </tr>\n",
       "  </thead>\n",
       "  <tbody>\n",
       "    <tr>\n",
       "      <th>12</th>\n",
       "      <td>Afghanistan</td>\n",
       "      <td>2004</td>\n",
       "      <td>1062.249360</td>\n",
       "      <td>0.105809</td>\n",
       "    </tr>\n",
       "    <tr>\n",
       "      <th>27</th>\n",
       "      <td>Albania</td>\n",
       "      <td>2004</td>\n",
       "      <td>7277.214908</td>\n",
       "      <td>2.420388</td>\n",
       "    </tr>\n",
       "    <tr>\n",
       "      <th>54</th>\n",
       "      <td>Algeria</td>\n",
       "      <td>2004</td>\n",
       "      <td>11797.184849</td>\n",
       "      <td>4.634475</td>\n",
       "    </tr>\n",
       "    <tr>\n",
       "      <th>81</th>\n",
       "      <td>Angola</td>\n",
       "      <td>2004</td>\n",
       "      <td>3461.018084</td>\n",
       "      <td>0.464815</td>\n",
       "    </tr>\n",
       "    <tr>\n",
       "      <th>108</th>\n",
       "      <td>Antigua and Barbuda</td>\n",
       "      <td>2004</td>\n",
       "      <td>19282.229791</td>\n",
       "      <td>24.266544</td>\n",
       "    </tr>\n",
       "  </tbody>\n",
       "</table>\n",
       "</div>"
      ],
      "text/plain": [
       "                 Country  Year  GDP_Per_Capita  Internet_Users_Pct\n",
       "12           Afghanistan  2004     1062.249360            0.105809\n",
       "27               Albania  2004     7277.214908            2.420388\n",
       "54               Algeria  2004    11797.184849            4.634475\n",
       "81                Angola  2004     3461.018084            0.464815\n",
       "108  Antigua and Barbuda  2004    19282.229791           24.266544"
      ]
     },
     "execution_count": 16,
     "metadata": {},
     "output_type": "execute_result"
    }
   ],
   "source": [
    "year_2004 = [2004]\n",
    "gdp_and_internet_use_2004 = gdp_and_internet_use_years[gdp_and_internet_use_years.Year == 2004]\n",
    "gdp_and_internet_use_2004.head()"
   ]
  },
  {
   "cell_type": "code",
   "execution_count": 17,
   "metadata": {},
   "outputs": [
    {
     "data": {
      "text/html": [
       "<div>\n",
       "<style scoped>\n",
       "    .dataframe tbody tr th:only-of-type {\n",
       "        vertical-align: middle;\n",
       "    }\n",
       "\n",
       "    .dataframe tbody tr th {\n",
       "        vertical-align: top;\n",
       "    }\n",
       "\n",
       "    .dataframe thead th {\n",
       "        text-align: right;\n",
       "    }\n",
       "</style>\n",
       "<table border=\"1\" class=\"dataframe\">\n",
       "  <thead>\n",
       "    <tr style=\"text-align: right;\">\n",
       "      <th></th>\n",
       "      <th>Country</th>\n",
       "      <th>Year</th>\n",
       "      <th>GDP_Per_Capita</th>\n",
       "      <th>Internet_Users_Pct</th>\n",
       "    </tr>\n",
       "  </thead>\n",
       "  <tbody>\n",
       "    <tr>\n",
       "      <th>7</th>\n",
       "      <td>Afghanistan</td>\n",
       "      <td>2009</td>\n",
       "      <td>1531.173993</td>\n",
       "      <td>3.55</td>\n",
       "    </tr>\n",
       "    <tr>\n",
       "      <th>22</th>\n",
       "      <td>Albania</td>\n",
       "      <td>2009</td>\n",
       "      <td>9524.649303</td>\n",
       "      <td>41.20</td>\n",
       "    </tr>\n",
       "    <tr>\n",
       "      <th>49</th>\n",
       "      <td>Algeria</td>\n",
       "      <td>2009</td>\n",
       "      <td>12647.540304</td>\n",
       "      <td>11.23</td>\n",
       "    </tr>\n",
       "    <tr>\n",
       "      <th>76</th>\n",
       "      <td>Angola</td>\n",
       "      <td>2009</td>\n",
       "      <td>5908.051427</td>\n",
       "      <td>6.00</td>\n",
       "    </tr>\n",
       "    <tr>\n",
       "      <th>103</th>\n",
       "      <td>Antigua and Barbuda</td>\n",
       "      <td>2009</td>\n",
       "      <td>20942.301180</td>\n",
       "      <td>42.00</td>\n",
       "    </tr>\n",
       "  </tbody>\n",
       "</table>\n",
       "</div>"
      ],
      "text/plain": [
       "                 Country  Year  GDP_Per_Capita  Internet_Users_Pct\n",
       "7            Afghanistan  2009     1531.173993                3.55\n",
       "22               Albania  2009     9524.649303               41.20\n",
       "49               Algeria  2009    12647.540304               11.23\n",
       "76                Angola  2009     5908.051427                6.00\n",
       "103  Antigua and Barbuda  2009    20942.301180               42.00"
      ]
     },
     "execution_count": 17,
     "metadata": {},
     "output_type": "execute_result"
    }
   ],
   "source": [
    "year_2009 = [2009]\n",
    "gdp_and_internet_use_2009 = gdp_and_internet_use_years[gdp_and_internet_use_years.Year == 2009]\n",
    "gdp_and_internet_use_2009.head()"
   ]
  },
  {
   "cell_type": "code",
   "execution_count": 18,
   "metadata": {},
   "outputs": [
    {
     "data": {
      "text/html": [
       "<div>\n",
       "<style scoped>\n",
       "    .dataframe tbody tr th:only-of-type {\n",
       "        vertical-align: middle;\n",
       "    }\n",
       "\n",
       "    .dataframe tbody tr th {\n",
       "        vertical-align: top;\n",
       "    }\n",
       "\n",
       "    .dataframe thead th {\n",
       "        text-align: right;\n",
       "    }\n",
       "</style>\n",
       "<table border=\"1\" class=\"dataframe\">\n",
       "  <thead>\n",
       "    <tr style=\"text-align: right;\">\n",
       "      <th></th>\n",
       "      <th>Country</th>\n",
       "      <th>Year</th>\n",
       "      <th>GDP_Per_Capita</th>\n",
       "      <th>Internet_Users_Pct</th>\n",
       "    </tr>\n",
       "  </thead>\n",
       "  <tbody>\n",
       "    <tr>\n",
       "      <th>2</th>\n",
       "      <td>Afghanistan</td>\n",
       "      <td>2014</td>\n",
       "      <td>1838.960244</td>\n",
       "      <td>6.39</td>\n",
       "    </tr>\n",
       "    <tr>\n",
       "      <th>17</th>\n",
       "      <td>Albania</td>\n",
       "      <td>2014</td>\n",
       "      <td>10701.120786</td>\n",
       "      <td>60.10</td>\n",
       "    </tr>\n",
       "    <tr>\n",
       "      <th>44</th>\n",
       "      <td>Algeria</td>\n",
       "      <td>2014</td>\n",
       "      <td>13483.337862</td>\n",
       "      <td>18.09</td>\n",
       "    </tr>\n",
       "    <tr>\n",
       "      <th>71</th>\n",
       "      <td>Angola</td>\n",
       "      <td>2014</td>\n",
       "      <td>6260.132681</td>\n",
       "      <td>21.26</td>\n",
       "    </tr>\n",
       "    <tr>\n",
       "      <th>98</th>\n",
       "      <td>Antigua and Barbuda</td>\n",
       "      <td>2014</td>\n",
       "      <td>19573.834118</td>\n",
       "      <td>64.00</td>\n",
       "    </tr>\n",
       "  </tbody>\n",
       "</table>\n",
       "</div>"
      ],
      "text/plain": [
       "                Country  Year  GDP_Per_Capita  Internet_Users_Pct\n",
       "2           Afghanistan  2014     1838.960244                6.39\n",
       "17              Albania  2014    10701.120786               60.10\n",
       "44              Algeria  2014    13483.337862               18.09\n",
       "71               Angola  2014     6260.132681               21.26\n",
       "98  Antigua and Barbuda  2014    19573.834118               64.00"
      ]
     },
     "execution_count": 18,
     "metadata": {},
     "output_type": "execute_result"
    }
   ],
   "source": [
    "year_2014 = [2014]\n",
    "gdp_and_internet_use_2014 = gdp_and_internet_use_years[gdp_and_internet_use_years.Year == 2014]\n",
    "gdp_and_internet_use_2014.head()"
   ]
  },
  {
   "cell_type": "code",
   "execution_count": 19,
   "metadata": {},
   "outputs": [
    {
     "data": {
      "text/plain": [
       "Country               Iceland\n",
       "Year                     2014\n",
       "GDP_Per_Capita        41701.1\n",
       "Internet_Users_Pct      98.16\n",
       "Name: 2332, dtype: object"
      ]
     },
     "execution_count": 19,
     "metadata": {},
     "output_type": "execute_result"
    }
   ],
   "source": [
    "gdp_and_internet_use_2014.loc[gdp_and_internet_use_2014['Internet_Users_Pct'].idxmax()]"
   ]
  },
  {
   "cell_type": "code",
   "execution_count": 20,
   "metadata": {},
   "outputs": [
    {
     "data": {
      "text/plain": [
       "Country               Dem. People's Rep. of Korea\n",
       "Year                                         2014\n",
       "GDP_Per_Capita                                NaN\n",
       "Internet_Users_Pct                              0\n",
       "Name: 6443, dtype: object"
      ]
     },
     "execution_count": 20,
     "metadata": {},
     "output_type": "execute_result"
    }
   ],
   "source": [
    "gdp_and_internet_use_2014.loc[gdp_and_internet_use_2014['Internet_Users_Pct'].idxmin()]"
   ]
  },
  {
   "cell_type": "code",
   "execution_count": 21,
   "metadata": {},
   "outputs": [
    {
     "data": {
      "text/plain": [
       "Country               Iceland\n",
       "Year                     2009\n",
       "GDP_Per_Capita        40189.6\n",
       "Internet_Users_Pct         93\n",
       "Name: 2337, dtype: object"
      ]
     },
     "execution_count": 21,
     "metadata": {},
     "output_type": "execute_result"
    }
   ],
   "source": [
    "gdp_and_internet_use_2009.loc[gdp_and_internet_use_2009['Internet_Users_Pct'].idxmax()]"
   ]
  },
  {
   "cell_type": "code",
   "execution_count": 22,
   "metadata": {},
   "outputs": [
    {
     "data": {
      "text/plain": [
       "Country               Dem. People's Rep. of Korea\n",
       "Year                                         2009\n",
       "GDP_Per_Capita                                NaN\n",
       "Internet_Users_Pct                              0\n",
       "Name: 6447, dtype: object"
      ]
     },
     "execution_count": 22,
     "metadata": {},
     "output_type": "execute_result"
    }
   ],
   "source": [
    "gdp_and_internet_use_2009.loc[gdp_and_internet_use_2009['Internet_Users_Pct'].idxmin()]"
   ]
  },
  {
   "cell_type": "code",
   "execution_count": 23,
   "metadata": {},
   "outputs": [
    {
     "data": {
      "text/plain": [
       "Country               Dem. People's Rep. of Korea\n",
       "Year                                         2004\n",
       "GDP_Per_Capita                                NaN\n",
       "Internet_Users_Pct                              0\n",
       "Name: 6452, dtype: object"
      ]
     },
     "execution_count": 23,
     "metadata": {},
     "output_type": "execute_result"
    }
   ],
   "source": [
    "gdp_and_internet_use_2004.loc[gdp_and_internet_use_2004['Internet_Users_Pct'].idxmin()]"
   ]
  },
  {
   "cell_type": "code",
   "execution_count": 24,
   "metadata": {},
   "outputs": [
    {
     "data": {
      "text/plain": [
       "Country                Sweden\n",
       "Year                     2004\n",
       "GDP_Per_Capita        40257.9\n",
       "Internet_Users_Pct      83.89\n",
       "Name: 5397, dtype: object"
      ]
     },
     "execution_count": 24,
     "metadata": {},
     "output_type": "execute_result"
    }
   ],
   "source": [
    "gdp_and_internet_use_2004.loc[gdp_and_internet_use_2004['Internet_Users_Pct'].idxmax()]"
   ]
  },
  {
   "cell_type": "code",
   "execution_count": 25,
   "metadata": {},
   "outputs": [
    {
     "data": {
      "text/plain": [
       "Country               Macao SAR, China\n",
       "Year                              2014\n",
       "GDP_Per_Capita                  130755\n",
       "Internet_Users_Pct                 NaN\n",
       "Name: 3319, dtype: object"
      ]
     },
     "execution_count": 25,
     "metadata": {},
     "output_type": "execute_result"
    }
   ],
   "source": [
    "gdp_and_internet_use_2014.loc[gdp_and_internet_use_2014['GDP_Per_Capita'].idxmax()]"
   ]
  },
  {
   "cell_type": "code",
   "execution_count": 26,
   "metadata": {},
   "outputs": [
    {
     "data": {
      "text/plain": [
       "Country               Central African Republic\n",
       "Year                                      2014\n",
       "GDP_Per_Capita                         601.786\n",
       "Internet_Users_Pct                         NaN\n",
       "Name: 899, dtype: object"
      ]
     },
     "execution_count": 26,
     "metadata": {},
     "output_type": "execute_result"
    }
   ],
   "source": [
    "gdp_and_internet_use_2014.loc[gdp_and_internet_use_2014['GDP_Per_Capita'].idxmin()]"
   ]
  },
  {
   "cell_type": "code",
   "execution_count": 27,
   "metadata": {},
   "outputs": [
    {
     "data": {
      "image/png": "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\n",
      "text/plain": [
       "<Figure size 432x288 with 1 Axes>"
      ]
     },
     "metadata": {},
     "output_type": "display_data"
    }
   ],
   "source": [
    "x_2004 = gdp_and_internet_use_2004['Internet_Users_Pct']\n",
    "y_2004 = gdp_and_internet_use_2004['GDP_Per_Capita']\n",
    "plt.scatter(x_2004,y_2004)\n",
    "xlab = 'Percentage of Internet Users in 2004 (%)'\n",
    "ylab = 'GDP Per Capita in 2004'\n",
    "title = '2004 Percent Using the Internet vs. GDP Per Capita'\n",
    "plt.xlabel(xlab)\n",
    "plt.ylabel(ylab)\n",
    "plt.title(title)\n",
    "plt.show()"
   ]
  },
  {
   "cell_type": "code",
   "execution_count": 28,
   "metadata": {},
   "outputs": [
    {
     "data": {
      "image/png": "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\n",
      "text/plain": [
       "<Figure size 432x288 with 1 Axes>"
      ]
     },
     "metadata": {},
     "output_type": "display_data"
    }
   ],
   "source": [
    "x_2009 = gdp_and_internet_use_2009['Internet_Users_Pct']\n",
    "y_2009 = gdp_and_internet_use_2009['GDP_Per_Capita']\n",
    "plt.scatter(x_2009,y_2009)\n",
    "xlab1 = 'Percentage of Internet Users in 2009 (%)'\n",
    "ylab1 = 'GDP Per Capita in 2009'\n",
    "title1 = '2009 Percent Using the Internet vs. GDP Per Capita'\n",
    "plt.xlabel(xlab1)\n",
    "plt.ylabel(ylab1)\n",
    "plt.title(title1)\n",
    "plt.show()"
   ]
  },
  {
   "cell_type": "code",
   "execution_count": 29,
   "metadata": {},
   "outputs": [
    {
     "data": {
      "image/png": "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\n",
      "text/plain": [
       "<Figure size 432x288 with 1 Axes>"
      ]
     },
     "metadata": {},
     "output_type": "display_data"
    }
   ],
   "source": [
    "x_2014 = gdp_and_internet_use_2014['Internet_Users_Pct']\n",
    "y_2014 = gdp_and_internet_use_2014['GDP_Per_Capita']\n",
    "plt.scatter(x_2014,y_2014)\n",
    "xlab2 = 'Percentage of Internet Users in 2014 (%)'\n",
    "ylab2 = 'GDP Per Capita in 2014'\n",
    "title2 = '2014 Percent Using the Internet vs. GDP Per Capita'\n",
    "plt.xlabel(xlab2)\n",
    "plt.ylabel(ylab2)\n",
    "plt.title(title2)\n",
    "plt.show()"
   ]
  },
  {
   "cell_type": "code",
   "execution_count": 30,
   "metadata": {},
   "outputs": [],
   "source": [
    "# 2014 data appears to resemble a more exponential trend line. \n",
    "# Furthermore, from 2004 - 2014 data appears to improve in it's capability\n",
    "# of being able to be more effectively mathematically modeled using an \n",
    "# exponential trend line."
   ]
  },
  {
   "cell_type": "code",
   "execution_count": 31,
   "metadata": {},
   "outputs": [
    {
     "data": {
      "text/plain": [
       "0    3473.927554\n",
       "dtype: float64"
      ]
     },
     "execution_count": 31,
     "metadata": {},
     "output_type": "execute_result"
    }
   ],
   "source": [
    "gdp_and_internet_use_2014.loc[:,\"GDP_Per_Capita\"].mode()"
   ]
  },
  {
   "cell_type": "code",
   "execution_count": 32,
   "metadata": {},
   "outputs": [
    {
     "data": {
      "text/plain": [
       "array([[<matplotlib.axes._subplots.AxesSubplot object at 0x0000027DFE1E1470>]],\n",
       "      dtype=object)"
      ]
     },
     "execution_count": 32,
     "metadata": {},
     "output_type": "execute_result"
    },
    {
     "data": {
      "image/png": "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\n",
      "text/plain": [
       "<Figure size 432x288 with 1 Axes>"
      ]
     },
     "metadata": {},
     "output_type": "display_data"
    }
   ],
   "source": [
    "gdp_and_internet_use_2014.hist(column = 'GDP_Per_Capita')"
   ]
  },
  {
   "cell_type": "code",
   "execution_count": 33,
   "metadata": {},
   "outputs": [
    {
     "data": {
      "text/plain": [
       "array([[<matplotlib.axes._subplots.AxesSubplot object at 0x0000027DFE514CF8>]],\n",
       "      dtype=object)"
      ]
     },
     "execution_count": 33,
     "metadata": {},
     "output_type": "execute_result"
    },
    {
     "data": {
      "image/png": "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\n",
      "text/plain": [
       "<Figure size 432x288 with 1 Axes>"
      ]
     },
     "metadata": {},
     "output_type": "display_data"
    }
   ],
   "source": [
    "gdp_and_internet_use_2014.hist(column = 'Internet_Users_Pct')"
   ]
  },
  {
   "cell_type": "code",
   "execution_count": 34,
   "metadata": {},
   "outputs": [
    {
     "data": {
      "text/plain": [
       "0     2.1\n",
       "1     9.0\n",
       "2    11.0\n",
       "3    43.0\n",
       "4    43.4\n",
       "5    61.0\n",
       "dtype: float64"
      ]
     },
     "execution_count": 34,
     "metadata": {},
     "output_type": "execute_result"
    }
   ],
   "source": [
    "gdp_and_internet_use_2014.loc[:,\"Internet_Users_Pct\"].mode()"
   ]
  },
  {
   "cell_type": "code",
   "execution_count": 35,
   "metadata": {},
   "outputs": [],
   "source": [
    "#It appears that the GDP data in 2014 is unimodal.  However, the percentage of Internet Users data is not unimodal."
   ]
  },
  {
   "cell_type": "code",
   "execution_count": 38,
   "metadata": {},
   "outputs": [
    {
     "data": {
      "text/plain": [
       "98.16"
      ]
     },
     "execution_count": 38,
     "metadata": {},
     "output_type": "execute_result"
    }
   ],
   "source": [
    "gdp_and_internet_use_2014.loc[:,'Internet_Users_Pct'].max()"
   ]
  },
  {
   "cell_type": "code",
   "execution_count": 41,
   "metadata": {},
   "outputs": [
    {
     "data": {
      "text/html": [
       "<div>\n",
       "<style scoped>\n",
       "    .dataframe tbody tr th:only-of-type {\n",
       "        vertical-align: middle;\n",
       "    }\n",
       "\n",
       "    .dataframe tbody tr th {\n",
       "        vertical-align: top;\n",
       "    }\n",
       "\n",
       "    .dataframe thead th {\n",
       "        text-align: right;\n",
       "    }\n",
       "</style>\n",
       "<table border=\"1\" class=\"dataframe\">\n",
       "  <thead>\n",
       "    <tr style=\"text-align: right;\">\n",
       "      <th></th>\n",
       "      <th>Country</th>\n",
       "      <th>Year</th>\n",
       "      <th>GDP_Per_Capita</th>\n",
       "      <th>Internet_Users_Pct</th>\n",
       "    </tr>\n",
       "  </thead>\n",
       "  <tbody>\n",
       "    <tr>\n",
       "      <th>2332</th>\n",
       "      <td>Iceland</td>\n",
       "      <td>2014</td>\n",
       "      <td>41701.137092</td>\n",
       "      <td>98.16</td>\n",
       "    </tr>\n",
       "    <tr>\n",
       "      <th>6266</th>\n",
       "      <td>Bermuda</td>\n",
       "      <td>2014</td>\n",
       "      <td>NaN</td>\n",
       "      <td>96.80</td>\n",
       "    </tr>\n",
       "    <tr>\n",
       "      <th>4143</th>\n",
       "      <td>Norway</td>\n",
       "      <td>2014</td>\n",
       "      <td>63419.314779</td>\n",
       "      <td>96.30</td>\n",
       "    </tr>\n",
       "    <tr>\n",
       "      <th>1245</th>\n",
       "      <td>Denmark</td>\n",
       "      <td>2014</td>\n",
       "      <td>45057.074170</td>\n",
       "      <td>95.99</td>\n",
       "    </tr>\n",
       "    <tr>\n",
       "      <th>6209</th>\n",
       "      <td>Andorra</td>\n",
       "      <td>2014</td>\n",
       "      <td>NaN</td>\n",
       "      <td>95.90</td>\n",
       "    </tr>\n",
       "  </tbody>\n",
       "</table>\n",
       "</div>"
      ],
      "text/plain": [
       "      Country  Year  GDP_Per_Capita  Internet_Users_Pct\n",
       "2332  Iceland  2014    41701.137092               98.16\n",
       "6266  Bermuda  2014             NaN               96.80\n",
       "4143   Norway  2014    63419.314779               96.30\n",
       "1245  Denmark  2014    45057.074170               95.99\n",
       "6209  Andorra  2014             NaN               95.90"
      ]
     },
     "execution_count": 41,
     "metadata": {},
     "output_type": "execute_result"
    }
   ],
   "source": [
    "top_five_internet2014 = gdp_and_internet_use_2014.sort_values(by='Internet_Users_Pct', ascending=False)\n",
    "top_five_internet2014.head()"
   ]
  },
  {
   "cell_type": "code",
   "execution_count": 44,
   "metadata": {},
   "outputs": [],
   "source": [
    "countries=[\"Iceland\", \"Bermuda\", \"Norway\", \"Denmark\", \"Andorra\"]\n",
    "top_5_internet = gdp_and_internet_use_years[gdp_and_internet_use_years.Country.isin(countries)]"
   ]
  },
  {
   "cell_type": "code",
   "execution_count": 45,
   "metadata": {},
   "outputs": [
    {
     "name": "stdout",
     "output_type": "stream",
     "text": [
      "      Country  Year  GDP_Per_Capita  Internet_Users_Pct\n",
      "478   Bermuda  2009    57151.919132           83.250000\n",
      "483   Bermuda  2004    55452.638880           60.990867\n",
      "1245  Denmark  2014    45057.074170           95.990000\n",
      "1250  Denmark  2009    43382.625459           86.840000\n",
      "1255  Denmark  2004    43670.445300           80.930000\n",
      "2332  Iceland  2014    41701.137092           98.160000\n",
      "2337  Iceland  2009    40189.632828           93.000000\n",
      "2342  Iceland  2004    37865.375808           83.880000\n",
      "4143   Norway  2014    63419.314779           96.300000\n",
      "4148   Norway  2009    62698.285355           92.080000\n",
      "4153   Norway  2004    61675.600782           77.690000\n",
      "6209  Andorra  2014             NaN           95.900000\n",
      "6214  Andorra  2009             NaN           78.530000\n",
      "6219  Andorra  2004             NaN           26.837954\n",
      "6266  Bermuda  2014             NaN           96.800000\n"
     ]
    }
   ],
   "source": [
    "print(top_5_internet)"
   ]
  },
  {
   "cell_type": "code",
   "execution_count": 47,
   "metadata": {},
   "outputs": [
    {
     "data": {
      "text/plain": [
       "(15, 4)"
      ]
     },
     "execution_count": 47,
     "metadata": {},
     "output_type": "execute_result"
    }
   ],
   "source": [
    "top_5_internet.shape"
   ]
  },
  {
   "cell_type": "code",
   "execution_count": 50,
   "metadata": {},
   "outputs": [
    {
     "data": {
      "image/png": "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\n",
      "text/plain": [
       "<Figure size 3240x1080 with 75 Axes>"
      ]
     },
     "metadata": {},
     "output_type": "display_data"
    }
   ],
   "source": [
    "graph = sns.FacetGrid(top_5_internet, row=\"Country\", col=\"Internet_Users_Pct\", hue=\"Year\")"
=======
    "gdp_and_internet_use_2014.loc[:,'Internet_Users_Pct'].max()"
>>>>>>> 306ef1450316ae024bf9d188b5ab3d2e618ee856
   ]
  },
  {
   "cell_type": "code",
   "execution_count": null,
   "metadata": {},
   "outputs": [],
   "source": []
  }
 ],
 "metadata": {
  "kernelspec": {
   "display_name": "Python 3",
   "language": "python",
   "name": "python3"
  },
  "language_info": {
   "codemirror_mode": {
    "name": "ipython",
    "version": 3
   },
   "file_extension": ".py",
   "mimetype": "text/x-python",
   "name": "python",
   "nbconvert_exporter": "python",
   "pygments_lexer": "ipython3",
   "version": "3.6.5"
  }
 },
 "nbformat": 4,
 "nbformat_minor": 2
}
